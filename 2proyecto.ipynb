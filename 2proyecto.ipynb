{
  "nbformat": 4,
  "nbformat_minor": 0,
  "metadata": {
    "colab": {
      "provenance": [],
      "authorship_tag": "ABX9TyPgW1tOegChuMFEDCsH1Gd8",
      "include_colab_link": true
    },
    "kernelspec": {
      "name": "python3",
      "display_name": "Python 3"
    },
    "language_info": {
      "name": "python"
    }
  },
  "cells": [
    {
      "cell_type": "markdown",
      "metadata": {
        "id": "view-in-github",
        "colab_type": "text"
      },
      "source": [
        "<a href=\"https://colab.research.google.com/github/Mayra2511/Proyecto2/blob/main/2proyecto.ipynb\" target=\"_parent\"><img src=\"https://colab.research.google.com/assets/colab-badge.svg\" alt=\"Open In Colab\"/></a>"
      ]
    },
    {
      "cell_type": "markdown",
      "source": [
        "#Codificar en python una función que reciba un un número y devuelva si es primo"
      ],
      "metadata": {
        "id": "mfcZlOEKYrb5"
      }
    },
    {
      "cell_type": "code",
      "execution_count": 1,
      "metadata": {
        "colab": {
          "base_uri": "https://localhost:8080/"
        },
        "id": "nfzAalx6XmiO",
        "outputId": "601df537-8613-4268-d011-4c81b3d48f78"
      },
      "outputs": [
        {
          "output_type": "stream",
          "name": "stdout",
          "text": [
            "True\n",
            "True\n",
            "False\n",
            "True\n",
            "False\n"
          ]
        }
      ],
      "source": [
        "def es_primo(n):\n",
        "    if n <= 1:\n",
        "        return False\n",
        "    if n == 2:\n",
        "        return True\n",
        "    if n % 2 == 0:\n",
        "        return False\n",
        "    for i in range(3, int(n**0.5) + 1, 2):\n",
        "        if n % i == 0:\n",
        "            return False\n",
        "    return True\n",
        "\n",
        "# Ejemplos de uso\n",
        "print(es_primo(2))  # True\n",
        "print(es_primo(3))  # True\n",
        "print(es_primo(4))  # False\n",
        "print(es_primo(29)) # True\n",
        "print(es_primo(30)) # False\n"
      ]
    },
    {
      "cell_type": "markdown",
      "source": [
        "\n",
        "**Explicacion del codigo:**\n",
        "\n",
        "1.   Define una funcion (es_primo) y una variable (n)\n",
        "2.   Luego verifica si n es menor o igual que 1\n",
        "3.   Verifica si n es igual a 2\n",
        "4.   Verifica si n es divisible por 2 y residuo sea 0\n",
        "5.   Por ultimo crea un bucle para verificar solo los divisores necesarios (impares hasta la raíz cuadrada del número) para determinar si un número es primo\n",
        "\n",
        "\n",
        "\n",
        "\n",
        "\n",
        "\n"
      ],
      "metadata": {
        "id": "YOcwSuySZCwI"
      }
    },
    {
      "cell_type": "markdown",
      "source": [
        "#Codificar en python una función que reciba un un número y devuelva si es par"
      ],
      "metadata": {
        "id": "VCLQN7v1bPco"
      }
    },
    {
      "cell_type": "code",
      "source": [
        "def es_par(n):\n",
        "    return n % 2 == 0\n",
        "\n",
        "# Ejemplos de uso\n",
        "print(es_par(2))  # True, porque 2 es par\n",
        "print(es_par(3))  # False, porque 3 es impar\n",
        "print(es_par(4))  # True, porque 4 es par\n",
        "print(es_par(29)) # False, porque 29 es impar\n",
        "print(es_par(30)) # True, porque 30 es par\n"
      ],
      "metadata": {
        "colab": {
          "base_uri": "https://localhost:8080/"
        },
        "id": "JWwo0NVGa47Z",
        "outputId": "113cc43c-f40e-4dbc-ed76-325268e1610d"
      },
      "execution_count": 2,
      "outputs": [
        {
          "output_type": "stream",
          "name": "stdout",
          "text": [
            "True\n",
            "False\n",
            "True\n",
            "False\n",
            "True\n"
          ]
        }
      ]
    },
    {
      "cell_type": "markdown",
      "source": [
        "**Explicacion del codigo:**\n",
        "\n",
        "1.   Crea una funcion (es_par) y una variable (n)\n",
        "2.   Verifica si n es divisible por 2 y que en su resto me de 0\n",
        "\n",
        "\n",
        "\n"
      ],
      "metadata": {
        "id": "pL_u4UUnbvn5"
      }
    }
  ]
}